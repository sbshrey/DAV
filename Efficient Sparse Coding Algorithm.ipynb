{
 "cells": [
  {
   "cell_type": "code",
   "execution_count": 22,
   "metadata": {},
   "outputs": [],
   "source": [
    "import numpy as np\n",
    "def feature_sign_search(A, y, gamma):\n",
    "    tol = 1e-18\n",
    "    # initialize x, theta and active_set\n",
    "    x = np.zeros(A.shape[1])\n",
    "    #print(x)\n",
    "\n",
    "    theta = np.zeros(A.shape[1])\n",
    "    active_set = set()\n",
    "    \n",
    "    # precompute AtA and Aty\n",
    "    AtA = np.dot(A.T,A)\n",
    "    #print(AtA)\n",
    "    Aty = np.dot(A.T,y)\n",
    "    #print(Aty)\n",
    "    \n",
    "    gradient = -2*Aty + 2*np.dot(AtA,x)\n",
    "    #max_gradient = np.argmax(np.abs(gradient))\n",
    "    \n",
    "    zero_coeff = np.inf\n",
    "    \n",
    "    nonzero_coeff = 0\n",
    "    \n",
    "    # check the optimality conditions\n",
    "    while not np.allclose(nonzero_coeff,0,tol) or zero_coeff > gamma:\n",
    "        # condition (a) is true\n",
    "        if np.allclose(nonzero_coeff,0):\n",
    "            # condition (b) is not true, goto step 2\n",
    "            # zero coefficients of x\n",
    "            # print(theta,gradient)\n",
    "            index = np.argmax(np.abs(gradient)*(theta==0))\n",
    "            if gradient[index] > gamma:\n",
    "                theta[index] = -1\n",
    "                x[index] = 0\n",
    "                active_set.add(index)\n",
    "            elif gradient[index] < -gamma:\n",
    "                theta[index] = 1\n",
    "                x[index] = 0\n",
    "                active_set.add(index)\n",
    "            \n",
    "            # condition (b) is true, exit from while loop\n",
    "            if len(active_set) == 0: break\n",
    "        # condition (a) is false, goto step 3\n",
    "        #\n",
    "        # feature-sign step\n",
    "        sorted_active_set = sorted(active_set)\n",
    "        indexArray = np.array(sorted_active_set)\n",
    "        A_captA_cap = AtA[np.ix_(indexArray,indexArray)]\n",
    "        A_capty = Aty[indexArray]\n",
    "        x_cap = x[indexArray]\n",
    "        theta_cap = theta[indexArray]\n",
    "        \n",
    "        # minimize x_cap ||y - A_cap x_cap||^2 + gamma*theta_capt*x_cap\n",
    "        # singular matrix\n",
    "        if np.linalg.det(A_captA_cap) == 0:\n",
    "            x_cap_new = np.linalg.inv(A_captA_cap + 0.1*np.eye(A_captA_cap.shape[0])) * (A_capty - (gamma * theta_cap / 2))\n",
    "        else:\n",
    "            x_cap_new = np.linalg.inv(A_captA_cap) * (A_capty - (gamma * theta_cap / 2))\n",
    "        theta_cap_new = np.sign(x_cap_new)\n",
    "\n",
    "        sign_change = np.where(abs(theta_cap_new - theta_cap) == 2)[0]\n",
    "        \n",
    "        if len(sign_change) > 0:\n",
    "            opt_x = x_cap_new\n",
    "            opt_obj = np.dot(y.T,y) + (np.dot(x_cap_new, np.dot(A_captA_cap, x_cap_new))\n",
    "                        - 2 * np.dot(x_cap_new, A_captA_cap) \n",
    "                        + gamma * abs(x_cap_new).sum())\n",
    "            \n",
    "            for i in sign_change:\n",
    "                x1 = x_cap_new[i]\n",
    "                x2 = x_cap[i]\n",
    "                step = x2 / (x2 - x1)\n",
    "                curr_x = x_cap - step * (x_cap - x_cap_new)\n",
    "                obj = np.dot(y.T,y) + (np.dot(curr_x, np.dot(A_captA_cap, curr_x))\n",
    "                        - 2 * np.dot(curr_x, A_captA_cap) \n",
    "                        + gamma * abs(curr_x).sum())\n",
    "                if obj < opt_obj:\n",
    "                    opt_obj = obj\n",
    "                    opt_x = curr_x\n",
    "        else:\n",
    "            opt_x = x_cap_new\n",
    "        # update x_cap (corresponding entries in x) to the point with the lowest objective value\n",
    "        x[indexArray] = opt_x\n",
    "        zeros = indexArray[np.abs(x[indexArray]) < tol]\n",
    "        x_cap_new[zeros] = 0\n",
    "        theta[indexArray] = np.sign(x[indexArray])\n",
    "        active_set.difference_update(zeros)\n",
    "        gradient = -2*Aty + 2*np.dot(AtA,x)\n",
    "        zero_coeff = np.max(abs(gradient[theta==0]))\n",
    "        nonzero_coeff = np.max(abs(gradient[theta!=0] + gamma * theta[theta!=0]))\n",
    "    return x\n",
    "        \n",
    "                "
   ]
  },
  {
   "cell_type": "code",
   "execution_count": 24,
   "metadata": {},
   "outputs": [
    {
     "data": {
      "text/plain": [
       "array([0.        , 0.        , 0.33111111])"
      ]
     },
     "execution_count": 24,
     "metadata": {},
     "output_type": "execute_result"
    }
   ],
   "source": [
    "a = np.array([[1,2,3],[4,5,6]])\n",
    "y = np.array([1,2])\n",
    "g = 0.2\n",
    "\n",
    "feature_sign_search(a,y,g)"
   ]
  },
  {
   "cell_type": "code",
   "execution_count": null,
   "metadata": {},
   "outputs": [],
   "source": []
  }
 ],
 "metadata": {
  "kernelspec": {
   "display_name": "Python 3",
   "language": "python",
   "name": "python3"
  },
  "language_info": {
   "codemirror_mode": {
    "name": "ipython",
    "version": 3
   },
   "file_extension": ".py",
   "mimetype": "text/x-python",
   "name": "python",
   "nbconvert_exporter": "python",
   "pygments_lexer": "ipython3",
   "version": "3.6.4"
  }
 },
 "nbformat": 4,
 "nbformat_minor": 2
}
